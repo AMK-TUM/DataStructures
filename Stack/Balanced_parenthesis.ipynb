{
 "cells": [
  {
   "cell_type": "code",
   "execution_count": 7,
   "metadata": {},
   "outputs": [],
   "source": [
    "class MyStack:\n",
    "    def __init__(self):\n",
    "        self.stack_list = []\n",
    "        self.stack_size = 0\n",
    "\n",
    "    def is_empty(self):\n",
    "        return self.stack_size == 0\n",
    "\n",
    "    def peak(self):\n",
    "        if self.is_empty():\n",
    "            return None\n",
    "        return self.stack_list[-1]\n",
    "\n",
    "    def size(self):\n",
    "        return self.stack_size\n",
    "    \n",
    "    def push(self, value):\n",
    "        self.stack_size += 1\n",
    "        self.stack_list.append(value)\n",
    "\n",
    "    def pop(self):\n",
    "        if self.is_empty():\n",
    "            return None\n",
    "        self.stack_size -= 1\n",
    "        return self.stack_list.pop()\n"
   ]
  },
  {
   "cell_type": "code",
   "execution_count": 8,
   "metadata": {},
   "outputs": [],
   "source": [
    "def is_balanced(exp):\n",
    "    \n",
    "    inside = ['[','(','{']\n",
    "    out = [']',')','}']\n",
    "    myStack = MyStack()\n",
    "    \n",
    "    for i in exp:\n",
    "        if i not in out:\n",
    "            myStack.push(i)\n",
    "            \n",
    "        if i in out:\n",
    "            j = myStack.peak()\n",
    "            if i == out[0] and j == inside[0]:\n",
    "                return True\n",
    "            \n",
    "            if i == out[1] and j == inside[1]:\n",
    "                return True\n",
    "            \n",
    "            if i == out[2] and j == inside[2]:\n",
    "                return True\n",
    "            \n",
    "            else:\n",
    "                return False\n",
    "            \n",
    "        "
   ]
  },
  {
   "cell_type": "code",
   "execution_count": 9,
   "metadata": {},
   "outputs": [
    {
     "name": "stdout",
     "output_type": "stream",
     "text": [
      "Input string \"{[()]}\" is balanced: True\n",
      "Input string \"{[([({))]}}\" is balanced: False\n",
      "Input string \"\" is balanced: None\n"
     ]
    }
   ],
   "source": [
    "if __name__ == \"__main__\" :\n",
    "    # Example 1 \n",
    "    input_string = \"{[()]}\" # balanced string\n",
    "    result = str(is_balanced(input_string))\n",
    "    print(\"Input string \\\"\"+ input_string + \"\\\" is balanced: \" + result)\n",
    "    # Example 2\n",
    "    input_string = \"{[([({))]}}\" # imbalanced string\n",
    "    result = str(is_balanced(input_string))\n",
    "    print(\"Input string \\\"\"+ input_string + \"\\\" is balanced: \" + result)\n",
    "    # Example 3\n",
    "    input_string = \"\" # an empty string is balanced\n",
    "    result = str(is_balanced(input_string))\n",
    "    print(\"Input string \\\"\"+ input_string + \"\\\" is balanced: \" + result)\n"
   ]
  },
  {
   "cell_type": "code",
   "execution_count": null,
   "metadata": {},
   "outputs": [],
   "source": []
  }
 ],
 "metadata": {
  "kernelspec": {
   "display_name": "Python 3",
   "language": "python",
   "name": "python3"
  },
  "language_info": {
   "codemirror_mode": {
    "name": "ipython",
    "version": 3
   },
   "file_extension": ".py",
   "mimetype": "text/x-python",
   "name": "python",
   "nbconvert_exporter": "python",
   "pygments_lexer": "ipython3",
   "version": "3.7.4"
  }
 },
 "nbformat": 4,
 "nbformat_minor": 2
}
